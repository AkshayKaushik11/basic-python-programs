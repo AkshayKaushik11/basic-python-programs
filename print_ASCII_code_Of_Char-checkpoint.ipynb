{
 "cells": [
  {
   "cell_type": "code",
   "execution_count": null,
   "metadata": {},
   "outputs": [
    {
     "name": "stdout",
     "output_type": "stream",
     "text": [
      "press 1 to find ascii code of character or press 2 to find character corresponding to ascii code or press 0 to exit 1\n",
      "Enter any character: f\n",
      "The ASCII value of char f is:  102\n",
      "press 1 to find ascii code of character or press 2 to find character corresponding to ascii code or press 0 to exit 2\n",
      "Enter ASCII value: 31\n",
      "\u001f\n"
     ]
    }
   ],
   "source": [
    "def char():\n",
    " ch = input(\"Enter any character: \")\n",
    " print(\"The ASCII value of char \" + ch + \" is: \",ord(ch))\n",
    " \n",
    "def asci():\n",
    " num = int(input(\"Enter ASCII value: \"))\n",
    " print(chr(num))\n",
    " \n",
    "while True:\n",
    " a = int(input('press 1 to find ascii code of character or press 2 to find character corresponding to ascii code or press 0 to exit '))\n",
    " if a==1:\n",
    "  char()\n",
    "  continue\n",
    " elif a==2:\n",
    "  asci()\n",
    "  continue\n",
    " elif a==0:\n",
    "  break"
   ]
  },
  {
   "cell_type": "code",
   "execution_count": null,
   "metadata": {},
   "outputs": [],
   "source": []
  }
 ],
 "metadata": {
  "kernelspec": {
   "display_name": "Python 3",
   "language": "python",
   "name": "python3"
  },
  "language_info": {
   "codemirror_mode": {
    "name": "ipython",
    "version": 3
   },
   "file_extension": ".py",
   "mimetype": "text/x-python",
   "name": "python",
   "nbconvert_exporter": "python",
   "pygments_lexer": "ipython3",
   "version": "3.8.5"
  }
 },
 "nbformat": 4,
 "nbformat_minor": 4
}
