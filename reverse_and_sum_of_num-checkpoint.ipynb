{
 "cells": [
  {
   "cell_type": "code",
   "execution_count": 1,
   "metadata": {},
   "outputs": [
    {
     "name": "stdout",
     "output_type": "stream",
     "text": [
      "Enter the integer number: 12345\n",
      "The reverse number is : 54321\n",
      "sum of the digits is  15\n"
     ]
    }
   ],
   "source": [
    "number = int(input(\"Enter the integer number: \")) \n",
    "revs_number = 0 \n",
    "add = 0\n",
    "while (number > 0): \n",
    " \n",
    " remainder = number % 10\n",
    " add = add + remainder\n",
    " revs_number = (revs_number * 10) + remainder \n",
    " number = number // 10 \n",
    " \n",
    "print(\"The reverse number is : {}\".format(revs_number))\n",
    "print('sum of the digits is ',add)\n"
   ]
  },
  {
   "cell_type": "code",
   "execution_count": null,
   "metadata": {},
   "outputs": [],
   "source": []
  }
 ],
 "metadata": {
  "kernelspec": {
   "display_name": "Python 3",
   "language": "python",
   "name": "python3"
  },
  "language_info": {
   "codemirror_mode": {
    "name": "ipython",
    "version": 3
   },
   "file_extension": ".py",
   "mimetype": "text/x-python",
   "name": "python",
   "nbconvert_exporter": "python",
   "pygments_lexer": "ipython3",
   "version": "3.8.5"
  }
 },
 "nbformat": 4,
 "nbformat_minor": 4
}
