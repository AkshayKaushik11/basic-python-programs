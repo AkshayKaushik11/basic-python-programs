{
 "cells": [
  {
   "cell_type": "code",
   "execution_count": 2,
   "metadata": {},
   "outputs": [
    {
     "name": "stdout",
     "output_type": "stream",
     "text": [
      "enter number 6\n",
      "factorial of 6 is  720\n"
     ]
    }
   ],
   "source": [
    "def fact(n):\n",
    " if n==1:\n",
    "  return n\n",
    " else:\n",
    "  return n * fact(n-1)\n",
    "num = int(input('enter number '))\n",
    "if num < 0:\n",
    " print('factorial of negative number not possible')\n",
    "elif num == 0:\n",
    " print('factorial of 0 is 1')\n",
    "else:\n",
    " print(f'factorial of {num} is ',fact(num))"
   ]
  },
  {
   "cell_type": "code",
   "execution_count": null,
   "metadata": {},
   "outputs": [],
   "source": []
  }
 ],
 "metadata": {
  "kernelspec": {
   "display_name": "Python 3",
   "language": "python",
   "name": "python3"
  },
  "language_info": {
   "codemirror_mode": {
    "name": "ipython",
    "version": 3
   },
   "file_extension": ".py",
   "mimetype": "text/x-python",
   "name": "python",
   "nbconvert_exporter": "python",
   "pygments_lexer": "ipython3",
   "version": "3.8.5"
  }
 },
 "nbformat": 4,
 "nbformat_minor": 4
}
