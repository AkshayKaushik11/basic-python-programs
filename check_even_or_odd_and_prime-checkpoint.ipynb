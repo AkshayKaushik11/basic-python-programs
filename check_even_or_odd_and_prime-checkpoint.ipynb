{
 "cells": [
  {
   "cell_type": "code",
   "execution_count": 1,
   "metadata": {},
   "outputs": [
    {
     "name": "stdout",
     "output_type": "stream",
     "text": [
      "enter a natural number or enter -1 to exit 4\n",
      "number is even\n",
      "number is not prime\n",
      "enter a natural number or enter -1 to exit 7\n",
      "number is odd\n",
      "number is prime\n",
      "enter a natural number or enter -1 to exit -1\n"
     ]
    }
   ],
   "source": [
    "def checkoe(r):\n",
    " if n%2==0:\n",
    "     print('number is even')\n",
    " else:\n",
    "     print('number is odd')\n",
    "def checkprime(r):\n",
    " if n>1:\n",
    "     for i in range(2,n):\n",
    "         if n%i==0:\n",
    "             print('number is not prime')\n",
    "             break\n",
    "         else:\n",
    "             print('number is prime')\n",
    "             break\n",
    " else:\n",
    "     print('number is prime')\n",
    "while True:\n",
    " n = int(input('enter a natural number or enter -1 to exit '))\n",
    " if n==-1:\n",
    "     break\n",
    " else: checkoe(n)\n",
    " checkprime(n)\n"
   ]
  },
  {
   "cell_type": "code",
   "execution_count": null,
   "metadata": {},
   "outputs": [],
   "source": []
  }
 ],
 "metadata": {
  "kernelspec": {
   "display_name": "Python 3",
   "language": "python",
   "name": "python3"
  },
  "language_info": {
   "codemirror_mode": {
    "name": "ipython",
    "version": 3
   },
   "file_extension": ".py",
   "mimetype": "text/x-python",
   "name": "python",
   "nbconvert_exporter": "python",
   "pygments_lexer": "ipython3",
   "version": "3.8.5"
  }
 },
 "nbformat": 4,
 "nbformat_minor": 4
}
