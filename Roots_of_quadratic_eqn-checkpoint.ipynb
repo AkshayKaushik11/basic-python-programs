{
 "cells": [
  {
   "cell_type": "code",
   "execution_count": 1,
   "metadata": {},
   "outputs": [
    {
     "name": "stdout",
     "output_type": "stream",
     "text": [
      "This is the standard form of quadratic equation:\n",
      "Ax^2 + Bx + c\n",
      "enter coefficient of x^2:2\n",
      "enter coefficient of x:4\n",
      "enter the value of constant:6\n",
      "\n",
      "2 roots are \n",
      " -1.0  + i( 1.4142135623730951 )\n",
      " and -1.0  -i( 1.4142135623730951 )\n"
     ]
    }
   ],
   "source": [
    "import math\n",
    "print(\"This is the standard form of quadratic equation:\")\n",
    "print('Ax^2 + Bx + c')\n",
    "a = float(input('enter coefficient of x^2:'))\n",
    "b = float(input('enter coefficient of x:'))\n",
    "c = float(input('enter the value of constant:'))\n",
    "disc=(b*b) -(4*a*c)\n",
    "if(disc>0):\n",
    "    root1= ( -b + math.sqrt(disc) ) / ( 2 * a )\n",
    "    root2= ( -b - math.sqrt(disc) ) / ( 2 * a )\n",
    "    print(\"\\n2 roots are \", root1 , \" and \", root2)\n",
    "elif(disc<0):\n",
    "    real= -b /(2*a)\n",
    "    img= math.sqrt(-disc)/(2*a)\n",
    "    print(\"\\n2 roots are \\n\", real , \" + i(\", img , \")\\n and\", real , \" -i(\", img, \")\")\n",
    "else:\n",
    "    root= -b/ (2*a)\n",
    "    print(\"\\nCoinciding roots are \", root, \" and \", root)"
   ]
  },
  {
   "cell_type": "code",
   "execution_count": null,
   "metadata": {},
   "outputs": [],
   "source": []
  }
 ],
 "metadata": {
  "kernelspec": {
   "display_name": "Python 3",
   "language": "python",
   "name": "python3"
  },
  "language_info": {
   "codemirror_mode": {
    "name": "ipython",
    "version": 3
   },
   "file_extension": ".py",
   "mimetype": "text/x-python",
   "name": "python",
   "nbconvert_exporter": "python",
   "pygments_lexer": "ipython3",
   "version": "3.8.5"
  }
 },
 "nbformat": 4,
 "nbformat_minor": 4
}
