{
 "cells": [
  {
   "cell_type": "code",
   "execution_count": 5,
   "metadata": {},
   "outputs": [
    {
     "name": "stdout",
     "output_type": "stream",
     "text": [
      "enter the number153\n",
      "the number is armstrong\n"
     ]
    }
   ],
   "source": [
    "w = input('enter the number')\n",
    "p = len(w)\n",
    "a = int(w)\n",
    "add = 0\n",
    "temp = a\n",
    "while temp!=0:\n",
    " digit = temp%10\n",
    " add += digit **p\n",
    " temp = temp//10\n",
    "if add == a:\n",
    " print('the number is armstrong')\n",
    "else:\n",
    " print('the number is not armstrong')"
   ]
  }
 ],
 "metadata": {
  "kernelspec": {
   "display_name": "Python 3",
   "language": "python",
   "name": "python3"
  },
  "language_info": {
   "codemirror_mode": {
    "name": "ipython",
    "version": 3
   },
   "file_extension": ".py",
   "mimetype": "text/x-python",
   "name": "python",
   "nbconvert_exporter": "python",
   "pygments_lexer": "ipython3",
   "version": "3.8.5"
  }
 },
 "nbformat": 4,
 "nbformat_minor": 4
}
