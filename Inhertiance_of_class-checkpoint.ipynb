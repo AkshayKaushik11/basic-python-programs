{
 "cells": [
  {
   "cell_type": "markdown",
   "metadata": {},
   "source": [
    "WAP to implement inheritance of class.Create a class Employee inherit \n",
    "two classes Manager and Clerk from Employee."
   ]
  },
  {
   "cell_type": "code",
   "execution_count": 1,
   "metadata": {},
   "outputs": [
    {
     "name": "stdout",
     "output_type": "stream",
     "text": [
      "-------PARENT-------\n",
      "NAME :  John Doe\n",
      "AGE :  28\n",
      "SALARY :  22000\n",
      "--------OWN---------\n",
      "NAME :  John Doe\n",
      "AGE :  28\n",
      "SALARY :  22000\n",
      "TYPING SPEED :  40\n",
      "OVERTIME WAGE :  4000\n",
      "-------PARENT-------\n",
      "NAME :  Jane Doe\n",
      "AGE :  30\n",
      "SALARY :  35000\n",
      "--------OWN---------\n",
      "NAME :  Jane Doe\n",
      "AGE :  30\n",
      "SALARY :  35000\n",
      "TAX :  350.0\n"
     ]
    }
   ],
   "source": [
    "class Employee:\n",
    " def __init__(self, name, age, salary):\n",
    "  self.name = name\n",
    "  self.age = age\n",
    "  self.salary=salary\n",
    " def display(self):\n",
    "  print(\"NAME : \", self.name)\n",
    "  print(\"AGE : \", self.age)\n",
    "  print(\"SALARY : \", self.salary)\n",
    "class Clerk(Employee):\n",
    " def __init__(self, name, age, salary,typingspeed):\n",
    "  Employee.__init__(self, name, age, salary)\n",
    "  self.typingspeed = typingspeed\n",
    " def overtime(self):\n",
    "  Employee.display(self)\n",
    "  print(\"TYPING SPEED : \", self.typingspeed)\n",
    "  print(\"OVERTIME WAGE : \", self.typingspeed*100)\n",
    "class Manager(Employee):\n",
    " def __init__(self, name, age, salary):\n",
    "  Employee.__init__(self, name, age, salary)\n",
    "  self.t=1\n",
    " def tax(self): \n",
    "  Employee.display(self)\n",
    "  print(\"TAX : \", self.salary*self.t/100)\n",
    "c=Clerk('John Doe',28,22000,40)\n",
    "m=Manager('Jane Doe',30,35000)\n",
    "print('PARENT'.center(20,'-'))\n",
    "c.display()\n",
    "print('OWN'.center(20,'-'))\n",
    "c.overtime()\n",
    "print('PARENT'.center(20,'-'))\n",
    "m.display()\n",
    "print('OWN'.center(20,'-'))\n",
    "m.tax()"
   ]
  },
  {
   "cell_type": "code",
   "execution_count": null,
   "metadata": {},
   "outputs": [],
   "source": []
  }
 ],
 "metadata": {
  "kernelspec": {
   "display_name": "Python 3",
   "language": "python",
   "name": "python3"
  },
  "language_info": {
   "codemirror_mode": {
    "name": "ipython",
    "version": 3
   },
   "file_extension": ".py",
   "mimetype": "text/x-python",
   "name": "python",
   "nbconvert_exporter": "python",
   "pygments_lexer": "ipython3",
   "version": "3.8.5"
  }
 },
 "nbformat": 4,
 "nbformat_minor": 4
}
