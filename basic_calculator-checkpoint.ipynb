{
 "cells": [
  {
   "cell_type": "code",
   "execution_count": 1,
   "metadata": {},
   "outputs": [
    {
     "name": "stdout",
     "output_type": "stream",
     "text": [
      "Calculator\n",
      " \n",
      "Enter 1st number: \n",
      "23\n",
      "Enter 2nd number: \n",
      "45\n",
      "Choose operation: \n",
      "1: +\n",
      "2: - \n",
      "3: *\n",
      "4: / \n",
      "5: // \n",
      "6: %\n",
      "1\n",
      "\n",
      " 23  +  45  =  68\n",
      "\n",
      "Enter 0 for new computation. Any other number to quit\n",
      "8\n"
     ]
    }
   ],
   "source": [
    "print(\"Calculator\\n \")\n",
    "def sum(a,b):\n",
    "    sum=a+b\n",
    "    return(sum)\n",
    "def diff(a,b):\n",
    "    diff=a-b\n",
    "    return(diff)\n",
    "def prod(a,b):\n",
    "    prod=a*b\n",
    "    return(prod)\n",
    "def floatdiv(a,b):\n",
    "    div=a/b\n",
    "    return(div)\n",
    "def floordiv(a,b):\n",
    "    div=a//b\n",
    "    return(div)\n",
    "def modulo(a,b):\n",
    "    modulo=a%b\n",
    "    return(modulo)\n",
    "run=0\n",
    "while(run==0):\n",
    "    num1=int(input(\"Enter 1st number: \\n\"))\n",
    "    num2=int(input(\"Enter 2nd number: \\n\"))\n",
    "    op=int(input(\"Choose operation: \\n1: +\\n2: - \\n3: *\\n4: / \\n5: // \\n6: %\\n\"))\n",
    "    if(op==1):\n",
    "     print(\"\\n\",num1,\" + \",num2,\" = \",sum(num1,num2))\n",
    "    elif(op==2):\n",
    "     print(\"\\n\",num1,\" - \",num2,\" = \",diff(num1,num2))\n",
    "    elif(op==3):\n",
    "     print(\"\\n\",num1,\" * \",num2,\" = \",prod(num1,num2))\n",
    "    elif(op==4):\n",
    "     print(\"\\n\",num1,\" / \",num2,\" = \",floatdiv(num1,num2))\n",
    "    elif(op==5):\n",
    "     print(\"\\n\",num1,\" // \",num2,\" = \",floordiv(num1,num2))\n",
    "    elif(op==6):\n",
    "     print(\"\\n\",num1,\" % \",num2,\" = \",modulo(num1,num2))\n",
    "    else:\n",
    "     print(\"\\nEnter valid option\\n\")\n",
    " \n",
    "    run =int(input(\"\\nEnter 0 for new computation. Any other number to quit\\n\"))"
   ]
  },
  {
   "cell_type": "code",
   "execution_count": null,
   "metadata": {},
   "outputs": [],
   "source": []
  }
 ],
 "metadata": {
  "kernelspec": {
   "display_name": "Python 3",
   "language": "python",
   "name": "python3"
  },
  "language_info": {
   "codemirror_mode": {
    "name": "ipython",
    "version": 3
   },
   "file_extension": ".py",
   "mimetype": "text/x-python",
   "name": "python",
   "nbconvert_exporter": "python",
   "pygments_lexer": "ipython3",
   "version": "3.8.5"
  }
 },
 "nbformat": 4,
 "nbformat_minor": 4
}
