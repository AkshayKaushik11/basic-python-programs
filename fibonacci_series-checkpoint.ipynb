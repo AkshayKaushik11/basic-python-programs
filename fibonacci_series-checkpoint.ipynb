{
 "cells": [
  {
   "cell_type": "markdown",
   "metadata": {},
   "source": [
    "WAP to print fibonacci series"
   ]
  },
  {
   "cell_type": "code",
   "execution_count": 1,
   "metadata": {},
   "outputs": [
    {
     "name": "stdout",
     "output_type": "stream",
     "text": [
      "enter number of terms: 5\n",
      "0\n",
      "1\n",
      "1\n",
      "2\n",
      "3\n"
     ]
    }
   ],
   "source": [
    "def fibb(n):\n",
    " if num < 1:\n",
    "  return 0\n",
    " else:\n",
    "     n1=0\n",
    "     n2=1\n",
    "     count=0\n",
    "     while count<n:\n",
    "         print(n1)\n",
    "         add = n1 + n2\n",
    "         n1 = n2\n",
    "         n2 = add\n",
    "         count+=1\n",
    "\n",
    "num = int(input('enter number of terms: '))\n",
    "fibb(num)"
   ]
  }
 ],
 "metadata": {
  "kernelspec": {
   "display_name": "Python 3",
   "language": "python",
   "name": "python3"
  },
  "language_info": {
   "codemirror_mode": {
    "name": "ipython",
    "version": 3
   },
   "file_extension": ".py",
   "mimetype": "text/x-python",
   "name": "python",
   "nbconvert_exporter": "python",
   "pygments_lexer": "ipython3",
   "version": "3.8.5"
  }
 },
 "nbformat": 4,
 "nbformat_minor": 4
}
